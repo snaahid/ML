{
 "cells": [
  {
   "cell_type": "markdown",
   "metadata": {},
   "source": [
    "# Lab 2: Supervised Learning - Solutions"
   ]
  },
  {
   "cell_type": "code",
   "execution_count": 1,
   "metadata": {},
   "outputs": [],
   "source": [
    "import numpy as np\n",
    "import pandas as pd\n",
    "\n",
    "import math\n",
    "from random import shuffle\n",
    "import random\n",
    "random.seed(0)\n",
    "\n",
    "# plotting\n",
    "import matplotlib.pyplot as plt\n",
    "import seaborn as sns\n",
    "\n",
    "from sklearn.metrics import accuracy_score\n",
    "from sklearn.linear_model import LinearRegression\n",
    "\n",
    "givenDec = lambda gdVal: float('%.1f' % gdVal) # 1 digit\n",
    "givenDec3 = lambda gdVal: float('%.3f' % gdVal) # 3 digit"
   ]
  },
  {
   "cell_type": "markdown",
   "metadata": {},
   "source": [
    "### Classification"
   ]
  },
  {
   "cell_type": "code",
   "execution_count": 2,
   "metadata": {},
   "outputs": [],
   "source": [
    "def generateCarTypeData(gnPoints):\n",
    "\n",
    "    #gnPoints = 20\n",
    "\n",
    "    engine_power_all = []\n",
    "    price_all = []\n",
    "    famCar_class = []\n",
    "\n",
    "    for i in range(gnPoints):\n",
    "        rnd_val = np.random.random()\n",
    "        rnd_val_e = np.random.random()\n",
    "        rnd_val_p = np.random.random()\n",
    "        if(rnd_val < 0.5):\n",
    "            famCar_class.append(0)\n",
    "            tmp_eng_power = np.random.randint(low=50, high=240)\n",
    "            tmp_price = np.random.randint(low=10, high=100)\n",
    "\n",
    "            while (120<tmp_eng_power<180 and 25<tmp_price<50):\n",
    "                tmp_eng_power = np.random.randint(low=50, high=240)\n",
    "                tmp_price = np.random.randint(low=10, high=100)\n",
    "\n",
    "            engine_power_all.append(tmp_eng_power)\n",
    "            price_all.append(tmp_price)\n",
    "        else:\n",
    "            famCar_class.append(1)\n",
    "            engine_power_all.append(np.random.randint(low=120, high=180))\n",
    "            price_all.append(np.random.randint(low=25, high=50))\n",
    "\n",
    "    tmp_df = pd.DataFrame({\n",
    "        \"e\":engine_power_all,\n",
    "        \"p\":price_all,\n",
    "        \"c\":famCar_class\n",
    "    })\n",
    "    \n",
    "    return tmp_df\n"
   ]
  },
  {
   "cell_type": "code",
   "execution_count": 3,
   "metadata": {},
   "outputs": [],
   "source": [
    "my_df = generateCarTypeData(gnPoints=40)\n",
    "#my_df"
   ]
  },
  {
   "cell_type": "code",
   "execution_count": 4,
   "metadata": {},
   "outputs": [
    {
     "data": {
      "text/plain": [
       "<AxesSubplot:xlabel='e', ylabel='p'>"
      ]
     },
     "execution_count": 4,
     "metadata": {},
     "output_type": "execute_result"
    },
    {
     "data": {
      "image/png": "[encoded data removed]",
      "text/plain": [
       "<Figure size 432x288 with 1 Axes>"
      ]
     },
     "metadata": {
      "needs_background": "light"
     },
     "output_type": "display_data"
    }
   ],
   "source": [
    "#plt.scatter(my_df.e, my_df.p, marker='o');\n",
    "sns.scatterplot(x=\"e\", y=\"p\", hue=\"c\", data=my_df, palette=\"colorblind\")"
   ]
  },
  {
   "cell_type": "code",
   "execution_count": 5,
   "metadata": {},
   "outputs": [],
   "source": [
    "# from 2D data, get the range values associated with a family car\n",
    "def getRange_familyCar(gdf):\n",
    "    min_price = gdf[gdf['c']==1]['p'].min()\n",
    "    max_price = gdf[gdf['c']==1]['p'].max()\n",
    "    min_engine = gdf[gdf['c']==1]['e'].min()\n",
    "    max_engine = gdf[gdf['c']==1]['e'].max()\n",
    "    \n",
    "    return min_price, max_price, min_engine, max_engine\n",
    "    "
   ]
  },
  {
   "cell_type": "code",
   "execution_count": 6,
   "metadata": {},
   "outputs": [],
   "source": [
    "def getRange_familyCar_large(gdf):\n",
    "    min_price = gdf[gdf['c']==1]['p'].min()\n",
    "    max_price = gdf[gdf['c']==1]['p'].max()\n",
    "    min_engine = gdf[gdf['c']==1]['e'].min()\n",
    "    max_engine = gdf[gdf['c']==1]['e'].max()\n",
    "    \n",
    "    min_price_new = gdf[(gdf['c']==0) & (gdf['p'] < min_price)]['p'].max()\n",
    "    max_price_new = gdf[(gdf['c']==0) & (gdf['p'] > max_price)]['p'].min()\n",
    "    \n",
    "    min_engine_new = gdf[(gdf['c']==0) & (gdf['e'] < min_engine)]['e'].max()\n",
    "    max_engine_new = gdf[(gdf['c']==0) & (gdf['e'] > max_engine)]['e'].min()\n",
    "    \n",
    "    return min_price_new, max_price_new, min_engine_new, max_engine_new"
   ]
  },
  {
   "cell_type": "code",
   "execution_count": 7,
   "metadata": {},
   "outputs": [],
   "source": [
    "def getRange_familyCar_medium(gdf):\n",
    "    min_price = gdf[gdf['c']==1]['p'].min()\n",
    "    max_price = gdf[gdf['c']==1]['p'].max()\n",
    "    min_engine = gdf[gdf['c']==1]['e'].min()\n",
    "    max_engine = gdf[gdf['c']==1]['e'].max()\n",
    "    \n",
    "    min_price_new = gdf[(gdf['c']==0) & (gdf['p'] < min_price)]['p'].max()\n",
    "    max_price_new = gdf[(gdf['c']==0) & (gdf['p'] > max_price)]['p'].min()\n",
    "    \n",
    "    min_engine_new = gdf[(gdf['c']==0) & (gdf['e'] < min_engine)]['e'].max()\n",
    "    max_engine_new = gdf[(gdf['c']==0) & (gdf['e'] > max_engine)]['e'].min()\n",
    "    \n",
    "    min_price_new = (min_price_new + min_price)/2\n",
    "    max_price_new = (max_price_new + max_price)/2\n",
    "    min_engine_new = (min_engine_new + min_engine)/2\n",
    "    max_engine_new = (max_engine_new + max_engine)/2\n",
    "    \n",
    "    return min_price_new, max_price_new, min_engine_new, max_engine_new"
   ]
  },
  {
   "cell_type": "code",
   "execution_count": 8,
   "metadata": {},
   "outputs": [
    {
     "name": "stdout",
     "output_type": "stream",
     "text": [
      "rectangle 26 49 123 176\n",
      "rectangle 25 56 102 177\n",
      "rectangle 25.5 52.5 112.5 176.5\n"
     ]
    }
   ],
   "source": [
    "min_p, max_p, min_e, max_e = getRange_familyCar(my_df)\n",
    "print(\"rectangle\",min_p, max_p, min_e, max_e)\n",
    "\n",
    "min_p, max_p, min_e, max_e = getRange_familyCar_large(my_df)\n",
    "print(\"rectangle\",min_p, max_p, min_e, max_e)\n",
    "\n",
    "min_p, max_p, min_e, max_e = getRange_familyCar_medium(my_df)\n",
    "print(\"rectangle\",min_p, max_p, min_e, max_e)"
   ]
  },
  {
   "cell_type": "code",
   "execution_count": 9,
   "metadata": {},
   "outputs": [],
   "source": [
    "def classify_instance_byRectangle(min_price, max_price, min_engine, max_engine, gdf_instance):\n",
    "    if(min_engine<gdf_instance.e<max_engine and min_price<gdf_instance.p<max_price):\n",
    "        return 1\n",
    "    else:\n",
    "        return 0"
   ]
  },
  {
   "cell_type": "code",
   "execution_count": 10,
   "metadata": {},
   "outputs": [],
   "source": [
    "def classify_instance_byCircle(min_price, max_price, min_engine, max_engine, gdf_instance):\n",
    "    d_radius = min(max_price - min_price, max_engine-min_engine)/2.0\n",
    "    v_center = [np.mean([min_price, max_price]), np.mean([min_engine, max_engine])]\n",
    "    \n",
    "    #print(d_radius)\n",
    "    #print(v_center)\n",
    "    \n",
    "    if(math.sqrt(pow(gdf_instance.p - v_center[0], 2) + pow(gdf_instance.e - v_center[1], 2)) < d_radius):\n",
    "        return 1\n",
    "    else:\n",
    "        return 0"
   ]
  },
  {
   "cell_type": "code",
   "execution_count": 11,
   "metadata": {},
   "outputs": [
    {
     "name": "stdout",
     "output_type": "stream",
     "text": [
      "e    102\n",
      "p     69\n",
      "c      0\n",
      "Name: 0, dtype: int64\n"
     ]
    },
    {
     "data": {
      "text/plain": [
       "0"
      ]
     },
     "execution_count": 11,
     "metadata": {},
     "output_type": "execute_result"
    }
   ],
   "source": [
    "print(my_df.iloc[0])\n",
    "classify_instance_byCircle(25, 46, 120, 179, my_df.iloc[0])"
   ]
  },
  {
   "cell_type": "code",
   "execution_count": 12,
   "metadata": {},
   "outputs": [],
   "source": [
    "def classify_instance_byEllipsoid(min_price, max_price, min_engine, max_engine, gdf_instance):\n",
    "    d_radius_x = (max_price - min_price)/2.0\n",
    "    d_radius_y = (max_engine - min_engine)/2.0\n",
    "    v_center = [np.mean([min_price, max_price]), np.mean([min_engine, max_engine])]\n",
    "    \n",
    "    #print(d_radius_x, d_radius_y)\n",
    "    #print(v_center)\n",
    "    \n",
    "    if(pow(gdf_instance.p - v_center[0], 2)/pow(d_radius_x,2) + pow(gdf_instance.e - v_center[1], 2)/pow(d_radius_y,2) < 1.0):\n",
    "        return 1\n",
    "    else:\n",
    "        return 0"
   ]
  },
  {
   "cell_type": "code",
   "execution_count": 13,
   "metadata": {},
   "outputs": [
    {
     "name": "stdout",
     "output_type": "stream",
     "text": [
      "e    102\n",
      "p     69\n",
      "c      0\n",
      "Name: 0, dtype: int64\n"
     ]
    },
    {
     "data": {
      "text/plain": [
       "0"
      ]
     },
     "execution_count": 13,
     "metadata": {},
     "output_type": "execute_result"
    }
   ],
   "source": [
    "print(my_df.iloc[0])\n",
    "classify_instance_byEllipsoid(25, 46, 120, 179, my_df.iloc[0])"
   ]
  },
  {
   "cell_type": "code",
   "execution_count": 14,
   "metadata": {},
   "outputs": [],
   "source": [
    "test_df = generateCarTypeData(gnPoints=20)"
   ]
  },
  {
   "cell_type": "code",
   "execution_count": 16,
   "metadata": {},
   "outputs": [
    {
     "name": "stdout",
     "output_type": "stream",
     "text": [
      "rectangle 26 49 123 176\n",
      "[1 0 1 1 0 0 1 0 0 0 1 0 0 1 0 0 1 1 1 0]\n",
      "[1 0 0 1 0 0 1 0 0 0 1 0 0 1 0 0 1 1 1 0]\n",
      "d_accuracy 0.95\n"
     ]
    }
   ],
   "source": [
    "min_p, max_p, min_e, max_e = getRange_familyCar(my_df)\n",
    "print(\"rectangle\",min_p, max_p, min_e, max_e)\n",
    "\n",
    "test_labels = np.array(test_df.c)\n",
    "test_predict = []\n",
    "for i in range(len(test_df)):\n",
    "    test_predict.append(classify_instance_byRectangle(min_p, max_p, min_e, max_e, test_df.iloc[i]))\n",
    "\n",
    "print(np.array(test_labels))\n",
    "print(np.array(test_predict))\n",
    "# print(test_df)\n",
    "\n",
    "d_accuracy = round(accuracy_score(test_labels, test_predict), 4)\n",
    "print(\"d_accuracy\", d_accuracy)"
   ]
  },
  {
   "cell_type": "code",
   "execution_count": 17,
   "metadata": {},
   "outputs": [
    {
     "name": "stdout",
     "output_type": "stream",
     "text": [
      "rectangle_large 25 56 102 177\n",
      "[1 0 1 1 0 0 1 0 0 0 1 0 0 1 0 0 1 1 1 0]\n",
      "[1 0 1 1 0 0 1 0 0 0 1 0 0 1 0 0 1 1 1 0]\n",
      "d_accuracy 1.0\n"
     ]
    }
   ],
   "source": [
    "min_p, max_p, min_e, max_e = getRange_familyCar_large(my_df)\n",
    "print(\"rectangle_large\",min_p, max_p, min_e, max_e)\n",
    "\n",
    "test_labels = np.array(test_df.c)\n",
    "test_predict = []\n",
    "for i in range(len(test_df)):\n",
    "    test_predict.append(classify_instance_byRectangle(min_p, max_p, min_e, max_e, test_df.iloc[i]))\n",
    "\n",
    "print(np.array(test_labels))\n",
    "print(np.array(test_predict))\n",
    "# print(test_df)\n",
    "\n",
    "d_accuracy = round(accuracy_score(test_labels, test_predict), 4)\n",
    "print(\"d_accuracy\", d_accuracy)"
   ]
  },
  {
   "cell_type": "code",
   "execution_count": 18,
   "metadata": {},
   "outputs": [
    {
     "name": "stdout",
     "output_type": "stream",
     "text": [
      "rectangle_large 25.5 52.5 112.5 176.5\n",
      "[1 0 1 1 0 0 1 0 0 0 1 0 0 1 0 0 1 1 1 0]\n",
      "[1 0 1 1 0 0 1 0 0 0 1 0 0 1 0 0 1 1 1 0]\n",
      "d_accuracy 1.0\n"
     ]
    }
   ],
   "source": [
    "min_p, max_p, min_e, max_e = getRange_familyCar_medium(my_df)\n",
    "print(\"rectangle_large\",min_p, max_p, min_e, max_e)\n",
    "\n",
    "test_labels = np.array(test_df.c)\n",
    "test_predict = []\n",
    "for i in range(len(test_df)):\n",
    "    test_predict.append(classify_instance_byRectangle(min_p, max_p, min_e, max_e, test_df.iloc[i]))\n",
    "\n",
    "print(np.array(test_labels))\n",
    "print(np.array(test_predict))\n",
    "# print(test_df)\n",
    "\n",
    "d_accuracy = round(accuracy_score(test_labels, test_predict), 4)\n",
    "print(\"d_accuracy\", d_accuracy)"
   ]
  },
  {
   "cell_type": "code",
   "execution_count": 19,
   "metadata": {},
   "outputs": [
    {
     "name": "stdout",
     "output_type": "stream",
     "text": [
      "rectangle_medium 25.5 52.5 112.5 176.5\n",
      "[1 0 1 1 0 0 1 0 0 0 1 0 0 1 0 0 1 1 1 0]\n",
      "[1 0 0 1 0 0 0 0 0 0 0 0 0 1 0 0 1 1 0 0]\n",
      "d_accuracy 0.8\n"
     ]
    }
   ],
   "source": [
    "min_p, max_p, min_e, max_e = getRange_familyCar_medium(my_df)\n",
    "print(\"rectangle_medium\",min_p, max_p, min_e, max_e)\n",
    "\n",
    "test_labels = np.array(test_df.c)\n",
    "test_predict = []\n",
    "for i in range(len(test_df)):\n",
    "    test_predict.append(classify_instance_byCircle(min_p, max_p, min_e, max_e, test_df.iloc[i]))\n",
    "\n",
    "print(np.array(test_labels))\n",
    "print(np.array(test_predict))\n",
    "# print(test_df)\n",
    "\n",
    "d_accuracy = round(accuracy_score(test_labels, test_predict), 4)\n",
    "print(\"d_accuracy\", d_accuracy)"
   ]
  },
  {
   "cell_type": "code",
   "execution_count": 20,
   "metadata": {},
   "outputs": [
    {
     "name": "stdout",
     "output_type": "stream",
     "text": [
      "rectangle_medium 25.5 52.5 112.5 176.5\n",
      "[1 0 1 1 0 0 1 0 0 0 1 0 0 1 0 0 1 1 1 0]\n",
      "[1 0 1 1 0 0 1 0 0 0 1 0 0 1 0 0 1 1 1 0]\n",
      "d_accuracy 1.0\n"
     ]
    }
   ],
   "source": [
    "min_p, max_p, min_e, max_e = getRange_familyCar_medium(my_df)\n",
    "print(\"rectangle_medium\",min_p, max_p, min_e, max_e)\n",
    "\n",
    "test_labels = np.array(test_df.c)\n",
    "test_predict = []\n",
    "for i in range(len(test_df)):\n",
    "    test_predict.append(classify_instance_byEllipsoid(min_p, max_p, min_e, max_e, test_df.iloc[i]))\n",
    "\n",
    "print(np.array(test_labels))\n",
    "print(np.array(test_predict))\n",
    "# print(test_df)\n",
    "\n",
    "d_accuracy = round(accuracy_score(test_labels, test_predict), 4)\n",
    "print(\"d_accuracy\", d_accuracy)"
   ]
  },
  {
   "cell_type": "markdown",
   "metadata": {},
   "source": [
    "### Regression"
   ]
  },
  {
   "cell_type": "code",
   "execution_count": 21,
   "metadata": {},
   "outputs": [],
   "source": [
    "def getRMSE(gX, gr, gprVals):\n",
    "    # report Root Mean Squared Error (RMSE) as output\n",
    "    sum_squared_error=0\n",
    "    N = len(X)\n",
    "    for index, x in enumerate(gX):\n",
    "        error = gprVals[index] - gr[index]\n",
    "        squared_error = pow(error, 2)\n",
    "        sum_squared_error += squared_error\n",
    "\n",
    "    mean_squared_error = sum_squared_error/N\n",
    "    tmp_RMSE = pow(mean_squared_error, 0.5)\n",
    "    \n",
    "    return tmp_RMSE"
   ]
  },
  {
   "cell_type": "code",
   "execution_count": 22,
   "metadata": {},
   "outputs": [
    {
     "data": {
      "image/png": "[encoded data removed]",
      "text/plain": [
       "<Figure size 432x288 with 1 Axes>"
      ]
     },
     "metadata": {
      "needs_background": "light"
     },
     "output_type": "display_data"
    }
   ],
   "source": [
    "n_points = 50\n",
    "\n",
    "b = 6 # intercept\n",
    "m = 2.25 # slope\n",
    "noise_mean = 0.0\n",
    "noise_var = 1.21\n",
    "\n",
    "X = []\n",
    "r = []\n",
    "for i in range(n_points):\n",
    "    #rnd_num = random.random()\n",
    "    rnd_num = np.random.uniform(-2, 2)\n",
    "    X.append(rnd_num)\n",
    "    r.append(b + m*rnd_num + np.random.normal(loc=noise_mean, scale=noise_var))\n",
    "\n",
    "plt.scatter(X, r, marker='o');"
   ]
  },
  {
   "cell_type": "code",
   "execution_count": 23,
   "metadata": {},
   "outputs": [
    {
     "name": "stdout",
     "output_type": "stream",
     "text": [
      "w1: 2.45146\n",
      "w0: 6.16843\n"
     ]
    }
   ],
   "source": [
    "#r = w_0 + w_1*x\n",
    "\n",
    "# calculate w_1 and w_0 for the dataset\n",
    "N=len(X)\n",
    "mean_X = sum(X)/N\n",
    "mean_r = sum(r)/N\n",
    "\n",
    "w1_numerator = 0\n",
    "for index, x in enumerate(X):\n",
    "    w1_numerator += x * r[index]\n",
    "\n",
    "w1_numerator -= (mean_X*mean_r*N)\n",
    "\n",
    "w1_denominator = 0\n",
    "for index, x in enumerate(X):\n",
    "    w1_denominator += pow(x,2)\n",
    "\n",
    "w1_denominator -= N*pow(mean_X,2)\n",
    "\n",
    "w1 = w1_numerator/w1_denominator\n",
    "\n",
    "w0 = mean_r - w1*mean_X\n",
    "\n",
    "print('w1: %.5f' %w1)\n",
    "print('w0: %.5f' %w0)"
   ]
  },
  {
   "cell_type": "code",
   "execution_count": 24,
   "metadata": {},
   "outputs": [
    {
     "name": "stdout",
     "output_type": "stream",
     "text": [
      "RMSE: 1.31802\n"
     ]
    }
   ],
   "source": [
    "# Report the error with the calculated w_1 and w_0\n",
    "predicted_vals_linear = [w1*x+w0 for x in X]\n",
    "RMSE = getRMSE(X, r, predicted_vals_linear)\n",
    "print('RMSE: %.5f' %RMSE)"
   ]
  },
  {
   "cell_type": "code",
   "execution_count": 25,
   "metadata": {},
   "outputs": [
    {
     "data": {
      "image/png": "[encoded data removed]",
      "text/plain": [
       "<Figure size 432x288 with 1 Axes>"
      ]
     },
     "metadata": {
      "needs_background": "light"
     },
     "output_type": "display_data"
    }
   ],
   "source": [
    "# Plot the data points along with the fitted line\n",
    "plt.plot(X, r, 'ro')\n",
    "plt.plot(X, [w1*x+w0 for x in X] )\n",
    "plt.show()"
   ]
  },
  {
   "cell_type": "code",
   "execution_count": 26,
   "metadata": {},
   "outputs": [
    {
     "name": "stdout",
     "output_type": "stream",
     "text": [
      "Intercept: \n",
      " [6.16842762]\n",
      "Coefficients: \n",
      " [[2.4514582]]\n",
      "RMSE [1.31802052]\n"
     ]
    },
    {
     "data": {
      "image/png": "[encoded data removed]",
      "text/plain": [
       "<Figure size 432x288 with 1 Axes>"
      ]
     },
     "metadata": {
      "needs_background": "light"
     },
     "output_type": "display_data"
    }
   ],
   "source": [
    "xx = np.array(X)\n",
    "rr = np.array(r)\n",
    "\n",
    "# transforming the data to include another axis\n",
    "xx = xx[:, np.newaxis]\n",
    "rr = rr[:, np.newaxis]\n",
    "\n",
    "model = LinearRegression()\n",
    "model.fit(xx, rr)\n",
    "r_pred = model.predict(xx)\n",
    "\n",
    "# The coefficients + Intercept\n",
    "print('Intercept: \\n', model.intercept_)\n",
    "print('Coefficients: \\n', model.coef_)\n",
    "\n",
    "RMSE = getRMSE(xx, rr, r_pred)\n",
    "print(\"RMSE\",RMSE)\n",
    "\n",
    "plt.scatter(xx, rr, s=10)\n",
    "plt.plot(xx, r_pred, color='r')\n",
    "plt.show()"
   ]
  },
  {
   "cell_type": "code",
   "execution_count": 27,
   "metadata": {},
   "outputs": [],
   "source": [
    "import operator\n",
    "from sklearn.preprocessing import PolynomialFeatures\n",
    "\n",
    "def polyFit(gxx, grr, gnDegree):\n",
    "\n",
    "    polynomial_features= PolynomialFeatures(degree=gnDegree)\n",
    "    x_poly = polynomial_features.fit_transform(gxx)\n",
    "\n",
    "    model = LinearRegression()\n",
    "    model.fit(x_poly, grr)\n",
    "    r_poly_pred = model.predict(x_poly)\n",
    "\n",
    "    # The coefficients + Intercept\n",
    "    print('Intercept: \\n', model.intercept_)\n",
    "    print('Coefficients: \\n', model.coef_)\n",
    "    \n",
    "    RMSE = getRMSE(gxx, grr, r_poly_pred)\n",
    "    print('RMSE',RMSE)\n",
    "\n",
    "    plt.scatter(gxx, grr, s=10)\n",
    "\n",
    "    # sort the values of x before line plot\n",
    "    sort_axis = operator.itemgetter(0)\n",
    "    sorted_zip = sorted(zip(gxx,r_poly_pred), key=sort_axis)\n",
    "    gxx, r_poly_pred = zip(*sorted_zip)\n",
    "    plt.plot(gxx, r_poly_pred, color='m')\n",
    "    plt.show()\n",
    "    \n",
    "    return model.intercept_, model.coef_"
   ]
  },
  {
   "cell_type": "code",
   "execution_count": 28,
   "metadata": {},
   "outputs": [
    {
     "name": "stdout",
     "output_type": "stream",
     "text": [
      "Intercept: \n",
      " [5.79464207]\n",
      "Coefficients: \n",
      " [[0.         2.39682686 0.30794003]]\n",
      "RMSE [1.27077223]\n"
     ]
    },
    {
     "data": {
      "image/png": "[encoded data removed]",
      "text/plain": [
       "<Figure size 432x288 with 1 Axes>"
      ]
     },
     "metadata": {
      "needs_background": "light"
     },
     "output_type": "display_data"
    },
    {
     "data": {
      "text/plain": [
       "(array([5.79464207]), array([[0.        , 2.39682686, 0.30794003]]))"
      ]
     },
     "execution_count": 28,
     "metadata": {},
     "output_type": "execute_result"
    }
   ],
   "source": [
    "polyFit(xx, rr, gnDegree=2)"
   ]
  },
  {
   "cell_type": "code",
   "execution_count": 29,
   "metadata": {},
   "outputs": [
    {
     "name": "stdout",
     "output_type": "stream",
     "text": [
      "Intercept: \n",
      " [5.77568427]\n",
      "Coefficients: \n",
      " [[0.         1.61186985 0.2669479  0.34356599]]\n",
      "RMSE [1.21751009]\n"
     ]
    },
    {
     "data": {
      "image/png": "[encoded data removed]",
      "text/plain": [
       "<Figure size 432x288 with 1 Axes>"
      ]
     },
     "metadata": {
      "needs_background": "light"
     },
     "output_type": "display_data"
    },
    {
     "data": {
      "text/plain": [
       "(array([5.77568427]),\n",
       " array([[0.        , 1.61186985, 0.2669479 , 0.34356599]]))"
      ]
     },
     "execution_count": 29,
     "metadata": {},
     "output_type": "execute_result"
    }
   ],
   "source": [
    "polyFit(xx, rr, gnDegree=3)"
   ]
  },
  {
   "cell_type": "code",
   "execution_count": 30,
   "metadata": {},
   "outputs": [
    {
     "name": "stdout",
     "output_type": "stream",
     "text": [
      "Intercept: \n",
      " [5.97746469]\n",
      "Coefficients: \n",
      " [[ 0.          1.93501107 -0.25499443 -0.02444192  0.12945498  0.07880264\n",
      "   0.01006571]]\n",
      "RMSE [1.19764682]\n"
     ]
    },
    {
     "data": {
      "image/png": "[encoded data removed]",
      "text/plain": [
       "<Figure size 432x288 with 1 Axes>"
      ]
     },
     "metadata": {
      "needs_background": "light"
     },
     "output_type": "display_data"
    },
    {
     "data": {
      "text/plain": [
       "(array([5.97746469]),\n",
       " array([[ 0.        ,  1.93501107, -0.25499443, -0.02444192,  0.12945498,\n",
       "          0.07880264,  0.01006571]]))"
      ]
     },
     "execution_count": 30,
     "metadata": {},
     "output_type": "execute_result"
    }
   ],
   "source": [
    "polyFit(xx, rr, gnDegree=6)"
   ]
  },
  {
   "cell_type": "markdown",
   "metadata": {},
   "source": [
    "### Backups"
   ]
  },
  {
   "cell_type": "code",
   "execution_count": 31,
   "metadata": {},
   "outputs": [
    {
     "data": {
      "text/html": [
       "<div>\n",
       "<style scoped>\n",
       "    .dataframe tbody tr th:only-of-type {\n",
       "        vertical-align: middle;\n",
       "    }\n",
       "\n",
       "    .dataframe tbody tr th {\n",
       "        vertical-align: top;\n",
       "    }\n",
       "\n",
       "    .dataframe thead th {\n",
       "        text-align: right;\n",
       "    }\n",
       "</style>\n",
       "<table border=\"1\" class=\"dataframe\">\n",
       "  <thead>\n",
       "    <tr style=\"text-align: right;\">\n",
       "      <th></th>\n",
       "      <th>e</th>\n",
       "      <th>p</th>\n",
       "      <th>c</th>\n",
       "    </tr>\n",
       "  </thead>\n",
       "  <tbody>\n",
       "    <tr>\n",
       "      <th>0</th>\n",
       "      <td>100</td>\n",
       "      <td>20</td>\n",
       "      <td>0</td>\n",
       "    </tr>\n",
       "    <tr>\n",
       "      <th>1</th>\n",
       "      <td>80</td>\n",
       "      <td>22</td>\n",
       "      <td>0</td>\n",
       "    </tr>\n",
       "    <tr>\n",
       "      <th>2</th>\n",
       "      <td>200</td>\n",
       "      <td>60</td>\n",
       "      <td>0</td>\n",
       "    </tr>\n",
       "    <tr>\n",
       "      <th>3</th>\n",
       "      <td>250</td>\n",
       "      <td>80</td>\n",
       "      <td>0</td>\n",
       "    </tr>\n",
       "    <tr>\n",
       "      <th>4</th>\n",
       "      <td>220</td>\n",
       "      <td>70</td>\n",
       "      <td>0</td>\n",
       "    </tr>\n",
       "    <tr>\n",
       "      <th>5</th>\n",
       "      <td>150</td>\n",
       "      <td>40</td>\n",
       "      <td>1</td>\n",
       "    </tr>\n",
       "    <tr>\n",
       "      <th>6</th>\n",
       "      <td>120</td>\n",
       "      <td>30</td>\n",
       "      <td>1</td>\n",
       "    </tr>\n",
       "    <tr>\n",
       "      <th>7</th>\n",
       "      <td>170</td>\n",
       "      <td>35</td>\n",
       "      <td>1</td>\n",
       "    </tr>\n",
       "    <tr>\n",
       "      <th>8</th>\n",
       "      <td>160</td>\n",
       "      <td>45</td>\n",
       "      <td>1</td>\n",
       "    </tr>\n",
       "    <tr>\n",
       "      <th>9</th>\n",
       "      <td>180</td>\n",
       "      <td>50</td>\n",
       "      <td>1</td>\n",
       "    </tr>\n",
       "  </tbody>\n",
       "</table>\n",
       "</div>"
      ],
      "text/plain": [
       "     e   p  c\n",
       "0  100  20  0\n",
       "1   80  22  0\n",
       "2  200  60  0\n",
       "3  250  80  0\n",
       "4  220  70  0\n",
       "5  150  40  1\n",
       "6  120  30  1\n",
       "7  170  35  1\n",
       "8  160  45  1\n",
       "9  180  50  1"
      ]
     },
     "execution_count": 31,
     "metadata": {},
     "output_type": "execute_result"
    }
   ],
   "source": [
    "my_df = pd.DataFrame({\n",
    "    \"e\":[100, 80, 200, 250, 220, 150, 120, 170, 160, 180],\n",
    "    \"p\":[20, 22, 60, 80, 70, 40, 30, 35, 45, 50],\n",
    "    \"c\":[0,0,0,0,0,1,1,1,1,1]\n",
    "})\n",
    "my_df"
   ]
  },
  {
   "cell_type": "code",
   "execution_count": 32,
   "metadata": {},
   "outputs": [
    {
     "data": {
      "text/html": [
       "<div>\n",
       "<style scoped>\n",
       "    .dataframe tbody tr th:only-of-type {\n",
       "        vertical-align: middle;\n",
       "    }\n",
       "\n",
       "    .dataframe tbody tr th {\n",
       "        vertical-align: top;\n",
       "    }\n",
       "\n",
       "    .dataframe thead th {\n",
       "        text-align: right;\n",
       "    }\n",
       "</style>\n",
       "<table border=\"1\" class=\"dataframe\">\n",
       "  <thead>\n",
       "    <tr style=\"text-align: right;\">\n",
       "      <th></th>\n",
       "      <th>e</th>\n",
       "      <th>p</th>\n",
       "      <th>c</th>\n",
       "    </tr>\n",
       "  </thead>\n",
       "  <tbody>\n",
       "    <tr>\n",
       "      <th>0</th>\n",
       "      <td>292</td>\n",
       "      <td>18</td>\n",
       "      <td>0</td>\n",
       "    </tr>\n",
       "    <tr>\n",
       "      <th>1</th>\n",
       "      <td>136</td>\n",
       "      <td>74</td>\n",
       "      <td>0</td>\n",
       "    </tr>\n",
       "    <tr>\n",
       "      <th>2</th>\n",
       "      <td>80</td>\n",
       "      <td>74</td>\n",
       "      <td>0</td>\n",
       "    </tr>\n",
       "    <tr>\n",
       "      <th>3</th>\n",
       "      <td>90</td>\n",
       "      <td>65</td>\n",
       "      <td>0</td>\n",
       "    </tr>\n",
       "    <tr>\n",
       "      <th>4</th>\n",
       "      <td>121</td>\n",
       "      <td>40</td>\n",
       "      <td>1</td>\n",
       "    </tr>\n",
       "    <tr>\n",
       "      <th>5</th>\n",
       "      <td>178</td>\n",
       "      <td>55</td>\n",
       "      <td>0</td>\n",
       "    </tr>\n",
       "    <tr>\n",
       "      <th>6</th>\n",
       "      <td>176</td>\n",
       "      <td>45</td>\n",
       "      <td>1</td>\n",
       "    </tr>\n",
       "    <tr>\n",
       "      <th>7</th>\n",
       "      <td>208</td>\n",
       "      <td>48</td>\n",
       "      <td>0</td>\n",
       "    </tr>\n",
       "    <tr>\n",
       "      <th>8</th>\n",
       "      <td>177</td>\n",
       "      <td>38</td>\n",
       "      <td>1</td>\n",
       "    </tr>\n",
       "    <tr>\n",
       "      <th>9</th>\n",
       "      <td>142</td>\n",
       "      <td>96</td>\n",
       "      <td>0</td>\n",
       "    </tr>\n",
       "    <tr>\n",
       "      <th>10</th>\n",
       "      <td>50</td>\n",
       "      <td>25</td>\n",
       "      <td>0</td>\n",
       "    </tr>\n",
       "    <tr>\n",
       "      <th>11</th>\n",
       "      <td>113</td>\n",
       "      <td>95</td>\n",
       "      <td>0</td>\n",
       "    </tr>\n",
       "    <tr>\n",
       "      <th>12</th>\n",
       "      <td>106</td>\n",
       "      <td>45</td>\n",
       "      <td>0</td>\n",
       "    </tr>\n",
       "    <tr>\n",
       "      <th>13</th>\n",
       "      <td>168</td>\n",
       "      <td>22</td>\n",
       "      <td>0</td>\n",
       "    </tr>\n",
       "    <tr>\n",
       "      <th>14</th>\n",
       "      <td>51</td>\n",
       "      <td>67</td>\n",
       "      <td>0</td>\n",
       "    </tr>\n",
       "    <tr>\n",
       "      <th>15</th>\n",
       "      <td>92</td>\n",
       "      <td>79</td>\n",
       "      <td>0</td>\n",
       "    </tr>\n",
       "    <tr>\n",
       "      <th>16</th>\n",
       "      <td>149</td>\n",
       "      <td>74</td>\n",
       "      <td>0</td>\n",
       "    </tr>\n",
       "    <tr>\n",
       "      <th>17</th>\n",
       "      <td>237</td>\n",
       "      <td>87</td>\n",
       "      <td>0</td>\n",
       "    </tr>\n",
       "    <tr>\n",
       "      <th>18</th>\n",
       "      <td>278</td>\n",
       "      <td>46</td>\n",
       "      <td>0</td>\n",
       "    </tr>\n",
       "    <tr>\n",
       "      <th>19</th>\n",
       "      <td>245</td>\n",
       "      <td>14</td>\n",
       "      <td>0</td>\n",
       "    </tr>\n",
       "    <tr>\n",
       "      <th>20</th>\n",
       "      <td>290</td>\n",
       "      <td>47</td>\n",
       "      <td>0</td>\n",
       "    </tr>\n",
       "    <tr>\n",
       "      <th>21</th>\n",
       "      <td>255</td>\n",
       "      <td>62</td>\n",
       "      <td>0</td>\n",
       "    </tr>\n",
       "    <tr>\n",
       "      <th>22</th>\n",
       "      <td>174</td>\n",
       "      <td>45</td>\n",
       "      <td>1</td>\n",
       "    </tr>\n",
       "    <tr>\n",
       "      <th>23</th>\n",
       "      <td>276</td>\n",
       "      <td>37</td>\n",
       "      <td>0</td>\n",
       "    </tr>\n",
       "    <tr>\n",
       "      <th>24</th>\n",
       "      <td>228</td>\n",
       "      <td>95</td>\n",
       "      <td>0</td>\n",
       "    </tr>\n",
       "    <tr>\n",
       "      <th>25</th>\n",
       "      <td>91</td>\n",
       "      <td>17</td>\n",
       "      <td>0</td>\n",
       "    </tr>\n",
       "    <tr>\n",
       "      <th>26</th>\n",
       "      <td>94</td>\n",
       "      <td>31</td>\n",
       "      <td>0</td>\n",
       "    </tr>\n",
       "    <tr>\n",
       "      <th>27</th>\n",
       "      <td>185</td>\n",
       "      <td>48</td>\n",
       "      <td>0</td>\n",
       "    </tr>\n",
       "    <tr>\n",
       "      <th>28</th>\n",
       "      <td>187</td>\n",
       "      <td>60</td>\n",
       "      <td>0</td>\n",
       "    </tr>\n",
       "    <tr>\n",
       "      <th>29</th>\n",
       "      <td>269</td>\n",
       "      <td>95</td>\n",
       "      <td>0</td>\n",
       "    </tr>\n",
       "    <tr>\n",
       "      <th>30</th>\n",
       "      <td>242</td>\n",
       "      <td>39</td>\n",
       "      <td>0</td>\n",
       "    </tr>\n",
       "    <tr>\n",
       "      <th>31</th>\n",
       "      <td>81</td>\n",
       "      <td>34</td>\n",
       "      <td>0</td>\n",
       "    </tr>\n",
       "    <tr>\n",
       "      <th>32</th>\n",
       "      <td>234</td>\n",
       "      <td>88</td>\n",
       "      <td>0</td>\n",
       "    </tr>\n",
       "    <tr>\n",
       "      <th>33</th>\n",
       "      <td>179</td>\n",
       "      <td>62</td>\n",
       "      <td>0</td>\n",
       "    </tr>\n",
       "    <tr>\n",
       "      <th>34</th>\n",
       "      <td>70</td>\n",
       "      <td>81</td>\n",
       "      <td>0</td>\n",
       "    </tr>\n",
       "    <tr>\n",
       "      <th>35</th>\n",
       "      <td>72</td>\n",
       "      <td>44</td>\n",
       "      <td>0</td>\n",
       "    </tr>\n",
       "    <tr>\n",
       "      <th>36</th>\n",
       "      <td>151</td>\n",
       "      <td>31</td>\n",
       "      <td>1</td>\n",
       "    </tr>\n",
       "    <tr>\n",
       "      <th>37</th>\n",
       "      <td>166</td>\n",
       "      <td>48</td>\n",
       "      <td>1</td>\n",
       "    </tr>\n",
       "    <tr>\n",
       "      <th>38</th>\n",
       "      <td>250</td>\n",
       "      <td>52</td>\n",
       "      <td>0</td>\n",
       "    </tr>\n",
       "    <tr>\n",
       "      <th>39</th>\n",
       "      <td>159</td>\n",
       "      <td>54</td>\n",
       "      <td>0</td>\n",
       "    </tr>\n",
       "  </tbody>\n",
       "</table>\n",
       "</div>"
      ],
      "text/plain": [
       "      e   p  c\n",
       "0   292  18  0\n",
       "1   136  74  0\n",
       "2    80  74  0\n",
       "3    90  65  0\n",
       "4   121  40  1\n",
       "5   178  55  0\n",
       "6   176  45  1\n",
       "7   208  48  0\n",
       "8   177  38  1\n",
       "9   142  96  0\n",
       "10   50  25  0\n",
       "11  113  95  0\n",
       "12  106  45  0\n",
       "13  168  22  0\n",
       "14   51  67  0\n",
       "15   92  79  0\n",
       "16  149  74  0\n",
       "17  237  87  0\n",
       "18  278  46  0\n",
       "19  245  14  0\n",
       "20  290  47  0\n",
       "21  255  62  0\n",
       "22  174  45  1\n",
       "23  276  37  0\n",
       "24  228  95  0\n",
       "25   91  17  0\n",
       "26   94  31  0\n",
       "27  185  48  0\n",
       "28  187  60  0\n",
       "29  269  95  0\n",
       "30  242  39  0\n",
       "31   81  34  0\n",
       "32  234  88  0\n",
       "33  179  62  0\n",
       "34   70  81  0\n",
       "35   72  44  0\n",
       "36  151  31  1\n",
       "37  166  48  1\n",
       "38  250  52  0\n",
       "39  159  54  0"
      ]
     },
     "execution_count": 32,
     "metadata": {},
     "output_type": "execute_result"
    }
   ],
   "source": [
    "n_points = 40\n",
    "\n",
    "# engine_power_c0 = list(np.random.randint(low=50, high=120, size=int(n_points/4))) + list(np.random.randint(low=180, high=250, size=int(n_points/4)))\n",
    "# shuffle(engine_power_c0)\n",
    "# engine_power_c1 = list(np.random.randint(low=120, high=180, size=int(n_points/2)))\n",
    "# engine_power_all = engine_power_c0 + engine_power_c1\n",
    "engine_power_all = list(np.random.randint(low=50, high=300, size=int(n_points)))\n",
    "\n",
    "#price_c0 = list(np.random.randint(low=10, high=25, size=int(n_points/4))) + list(np.random.randint(low=50, high=100, size=int(n_points/4)))\n",
    "#shuffle(price_c0)\n",
    "#price_c1 = list(np.random.randint(low=25, high=50, size=int(n_points/2)))\n",
    "#price_all = price_c0 + price_c1\n",
    "price_all = list(np.random.randint(low=10, high=100, size=int(n_points)))\n",
    "\n",
    "#famCar_class = list(np.array([0] * int(n_points/2), dtype='int32')) + list(np.array([1] * int(n_points/2), dtype='int32'))\n",
    "\n",
    "famCar_class = []\n",
    "for i in range(n_points):\n",
    "    if(120 < engine_power_all[i] <180 and 25 < price_all[i] <50):\n",
    "        famCar_class.append(1)\n",
    "    else:\n",
    "        famCar_class.append(0)\n",
    "\n",
    "my_df = pd.DataFrame({\n",
    "    \"e\":engine_power_all,\n",
    "    \"p\":price_all,\n",
    "    \"c\":famCar_class\n",
    "})\n",
    "my_df"
   ]
  },
  {
   "cell_type": "code",
   "execution_count": null,
   "metadata": {},
   "outputs": [],
   "source": []
  }
 ],
 "metadata": {
  "@webio": {
   "lastCommId": null,
   "lastKernelId": null
  },
  "kernelspec": {
   "display_name": "Python 3",
   "language": "python",
   "name": "python3"
  },
  "language_info": {
   "codemirror_mode": {
    "name": "ipython",
    "version": 3
   },
   "file_extension": ".py",
   "mimetype": "text/x-python",
   "name": "python",
   "nbconvert_exporter": "python",
   "pygments_lexer": "ipython3",
   "version": "3.8.2"
  }
 },
 "nbformat": 4,
 "nbformat_minor": 2
}
